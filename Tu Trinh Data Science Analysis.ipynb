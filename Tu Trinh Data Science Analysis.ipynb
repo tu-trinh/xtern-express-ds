{
 "cells": [
  {
   "cell_type": "markdown",
   "metadata": {},
   "source": [
    "# Conclusions #\n",
    "I've made the following conclusions about Xtern Xpress. The supporting code can be found below this cell. We will assume that a 1-unit change in latitude or longitude corresponds to one mile.\n",
    "\n",
    "The most popular location for Xpress scooter users is about (-0.120500, -0.212989). From the graph we cannot see this popularity as all of the points are clustered together. However, we can see that there is a large gap in the middle, from x-coordinates of 0.50 to 0.75 and y-coordinates of 0.30 to 0.55.\n",
    "\n",
    "The time needed to charge all scooters is 64271 hours. As we can see from the histogram, most scooters are already fully charged, so this time is not as long as one might first expect.\n",
    "\n",
    "To determine the optimal charging strategy, we first must select only the scooters that need to be charged, then sort them by distance from the bus station. We can test out three different strategies: charging scooters solely based on location, charging solely based on power level, and charging based on a combination of the two. As shown by the summary bar graph at the bottom, the fastest charging strategy is to consider a combination of the two metrics: first, the bus would target the scooters closest to it, then determine the order of charging based on how much the scooter needs to charge. This strategy, however, is only marginally better than the first option of charging solely based on location. The last strategy, charging based on power level, is much too inefficient."
   ]
  },
  {
   "cell_type": "markdown",
   "metadata": {},
   "source": [
    "# Code #"
   ]
  },
  {
   "cell_type": "code",
   "execution_count": 1,
   "metadata": {},
   "outputs": [
    {
     "name": "stdout",
     "output_type": "stream",
     "text": [
      "   scooter_id  xcoordinate  ycoordinate  power_level\n",
      "0           0     0.906835     0.776484            0\n",
      "1           1     0.928587     0.804964            2\n",
      "2           2     0.904091     0.784043            1\n",
      "3           3     0.906752     0.804461            0\n",
      "4           4     0.900641     0.781683            4\n",
      "25668\n"
     ]
    }
   ],
   "source": [
    "import pandas as pd\n",
    "import numpy as np\n",
    "import seaborn as sns\n",
    "\n",
    "scooters = pd.read_csv('2019-XTern- Work Sample Assessment Data Science-DS.csv')\n",
    "print(scooters.head())\n",
    "\n",
    "# Number of scooters: 25668\n",
    "print(len(scooters))"
   ]
  },
  {
   "cell_type": "code",
   "execution_count": 2,
   "metadata": {},
   "outputs": [
    {
     "name": "stdout",
     "output_type": "stream",
     "text": [
      "Most popular x-coord: -0.120499626\n",
      "Most popular y-coord: -0.21298939999999997\n",
      "Most popular location: (-0.120499626, -0.21298939999999997)\n"
     ]
    },
    {
     "data": {
      "text/plain": [
       "<seaborn.axisgrid.JointGrid at 0x1a17f12940>"
      ]
     },
     "execution_count": 2,
     "metadata": {},
     "output_type": "execute_result"
    },
    {
     "data": {
      "image/png": "[encoded data removed]",
      "text/plain": [
       "<Figure size 432x432 with 3 Axes>"
      ]
     },
     "metadata": {
      "needs_background": "light"
     },
     "output_type": "display_data"
    }
   ],
   "source": [
    "# Determining location popularity\n",
    "pop_x = scooters['xcoordinate'].value_counts().idxmax()\n",
    "print(\"Most popular x-coord:\", pop_x)\n",
    "pop_y = scooters['ycoordinate'].value_counts().idxmax()\n",
    "print(\"Most popular y-coord:\", pop_y)\n",
    "print(\"Most popular location: ({0}, {1})\".format(pop_x, pop_y))\n",
    "\n",
    "sns.jointplot(x = 'xcoordinate', y = 'ycoordinate', data = scooters)"
   ]
  },
  {
   "cell_type": "code",
   "execution_count": 3,
   "metadata": {},
   "outputs": [
    {
     "name": "stdout",
     "output_type": "stream",
     "text": [
      "AxesSubplot(0.125,0.125;0.775x0.755)\n",
      "Time needed to charge all scooters: 64271\n"
     ]
    },
    {
     "data": {
      "image/png": "[encoded data removed]",
      "text/plain": [
       "<Figure size 432x288 with 1 Axes>"
      ]
     },
     "metadata": {
      "needs_background": "light"
     },
     "output_type": "display_data"
    }
   ],
   "source": [
    "# Determining time to charge all of the scooters\n",
    "full_charge_time = 5 # no magic numbers!\n",
    "scooter_power_levels = sns.distplot(scooters['power_level'].unique(), kde = False, bins = 5, norm_hist = False)\n",
    "print(scooter_power_levels)\n",
    "\n",
    "scooters['time_to_charge'] = full_charge_time - scooters['power_level']\n",
    "total_time_to_charge = sum(scooters['time_to_charge'])\n",
    "print(\"Time needed to charge all scooters:\", total_time_to_charge)"
   ]
  },
  {
   "cell_type": "code",
   "execution_count": 4,
   "metadata": {},
   "outputs": [
    {
     "name": "stdout",
     "output_type": "stream",
     "text": [
      "Number of scooters we need to charge: 25668\n",
      "Minimum distance to bus station: 26.75700023626647\n",
      "Maximum distance to bus station: 28.85182478901359\n",
      "   scooter_id  xcoordinate  ycoordinate  power_level  time_to_charge  \\\n",
      "0         0.0     0.906835     0.776484          0.0             5.0   \n",
      "1         1.0     0.928587     0.804964          2.0             3.0   \n",
      "2         2.0     0.904091     0.784043          1.0             4.0   \n",
      "3         3.0     0.906752     0.804461          0.0             5.0   \n",
      "4         4.0     0.900641     0.781683          4.0             1.0   \n",
      "\n",
      "    distance  \n",
      "0  27.362841  \n",
      "1  27.327306  \n",
      "2  27.359412  \n",
      "3  27.343057  \n",
      "4  27.363518  \n"
     ]
    }
   ],
   "source": [
    "# Developing a charging strategy\n",
    "to_charge = scooters.where(scooters['power_level'] < 5)\n",
    "print(\"Number of scooters we need to charge:\", len(to_charge))\n",
    "\n",
    "# Distance to the bus station\n",
    "def distance(x, y):\n",
    "    bus_x = 20.19\n",
    "    bus_y = 20.19\n",
    "    return np.sqrt((bus_x - x)**2 + (bus_y - y)**2)\n",
    "\n",
    "to_charge['distance'] = to_charge.apply(lambda d: distance(d['xcoordinate'], d['ycoordinate']), axis = 1)\n",
    "to_charge = to_charge.fillna(to_charge.mean())\n",
    "print(\"Minimum distance to bus station:\", min(to_charge['distance']))\n",
    "print(\"Maximum distance to bus station:\", max(to_charge['distance']))\n",
    "print(to_charge.head())"
   ]
  },
  {
   "cell_type": "code",
   "execution_count": 5,
   "metadata": {},
   "outputs": [
    {
     "name": "stdout",
     "output_type": "stream",
     "text": [
      "           scooter_id  xcoordinate  ycoordinate  power_level  time_to_charge  \\\n",
      "loc_index                                                                      \n",
      "0              3027.0     1.188913     1.351323          2.0             3.0   \n",
      "1              2809.0     1.196355     1.339839          4.0             1.0   \n",
      "2              3059.0     1.184466     1.347022          2.0             3.0   \n",
      "3              3451.0     1.174677     1.354255          4.0             1.0   \n",
      "4              2703.0     1.188549     1.339713          4.0             1.0   \n",
      "\n",
      "            distance  \n",
      "loc_index             \n",
      "0          26.757000  \n",
      "1          26.759804  \n",
      "2          26.763186  \n",
      "3          26.765048  \n",
      "4          26.765434  \n",
      "Charging by location takes 77387.08156964899 hours.\n"
     ]
    }
   ],
   "source": [
    "# Charging by location\n",
    "bus_speed = 50\n",
    "\n",
    "to_charge = to_charge.sort_values(by = ['distance'])\n",
    "to_charge['loc_index'] = list(range(len(to_charge)))\n",
    "to_charge = to_charge.set_index('loc_index')\n",
    "print(to_charge.head())\n",
    "\n",
    "loc_charge_time = 0\n",
    "for i in range(1, len(to_charge)):\n",
    "    travel_time = abs(to_charge.iloc[i]['distance'] - to_charge.iloc[i - 1]['distance']) / bus_speed\n",
    "    loc_charge_time += to_charge.iloc[i]['time_to_charge'] + travel_time\n",
    "loc_charge_time += to_charge.iloc[0]['time_to_charge'] + to_charge.iloc[0]['distance']\n",
    "\n",
    "print(\"Charging by location takes\", loc_charge_time, \"hours.\")"
   ]
  },
  {
   "cell_type": "code",
   "execution_count": 6,
   "metadata": {},
   "outputs": [
    {
     "name": "stdout",
     "output_type": "stream",
     "text": [
      "             scooter_id  xcoordinate  ycoordinate  power_level  \\\n",
      "power_index                                                      \n",
      "0               15551.0     0.218402    -0.033887          0.0   \n",
      "1                2609.0    -0.072161    -0.063691          0.0   \n",
      "2               15507.0     0.212575    -0.053838          0.0   \n",
      "3                1624.0    -0.068916    -0.066436          0.0   \n",
      "4                4661.0     0.210061     0.119162          0.0   \n",
      "\n",
      "             time_to_charge   distance  \n",
      "power_index                             \n",
      "0                       5.0  28.423060  \n",
      "1                       5.0  28.649034  \n",
      "2                       5.0  28.441352  \n",
      "3                       5.0  28.648680  \n",
      "4                       5.0  28.320249  \n",
      "Charging by power level takes 77644.2093433874 hours.\n"
     ]
    }
   ],
   "source": [
    "# Charging by power level\n",
    "to_charge = to_charge.sort_values(by = ['power_level'])\n",
    "to_charge['power_index'] = list(range(len(to_charge)))\n",
    "to_charge = to_charge.set_index('power_index')\n",
    "print(to_charge.head())\n",
    "\n",
    "power_charge_time = 0\n",
    "for i in range(1, len(to_charge)):\n",
    "    travel_time = abs(to_charge.iloc[i]['distance'] - to_charge.iloc[i - 1]['distance']) / bus_speed\n",
    "    power_charge_time += to_charge.iloc[i]['time_to_charge'] + travel_time\n",
    "power_charge_time += to_charge.iloc[0]['time_to_charge'] + to_charge.iloc[0]['distance']\n",
    "\n",
    "print(\"Charging by power level takes\", power_charge_time, \"hours.\")"
   ]
  },
  {
   "cell_type": "code",
   "execution_count": 8,
   "metadata": {},
   "outputs": [
    {
     "name": "stdout",
     "output_type": "stream",
     "text": [
      "            scooter_id  xcoordinate  ycoordinate  power_level  time_to_charge  \\\n",
      "both_index                                                                      \n",
      "0               3027.0     1.188913     1.351323          2.0             3.0   \n",
      "1               2809.0     1.196355     1.339839          4.0             1.0   \n",
      "2               3059.0     1.184466     1.347022          2.0             3.0   \n",
      "3               3451.0     1.174677     1.354255          4.0             1.0   \n",
      "4               2703.0     1.188549     1.339713          4.0             1.0   \n",
      "\n",
      "             distance  \n",
      "both_index             \n",
      "0           26.757000  \n",
      "1           26.759804  \n",
      "2           26.763186  \n",
      "3           26.765048  \n",
      "4           26.765434  \n",
      "Charging by both distance and power level takes 77387.08156964899 hours.\n"
     ]
    }
   ],
   "source": [
    "# Charging by location and power level\n",
    "to_charge = to_charge.reset_index(drop = True)\n",
    "to_charge = to_charge.sort_values(by = ['distance', 'time_to_charge'])\n",
    "to_charge['both_index'] = list(range(len(to_charge)))\n",
    "to_charge = to_charge.set_index('both_index')\n",
    "print(to_charge.head())\n",
    "\n",
    "both_charge_time = 0\n",
    "for i in range(1, len(to_charge)):\n",
    "    travel_time = abs(to_charge.iloc[i]['distance'] - to_charge.iloc[i - 1]['distance']) / bus_speed\n",
    "    both_charge_time += to_charge.iloc[i]['time_to_charge'] + travel_time\n",
    "both_charge_time += to_charge.iloc[0]['time_to_charge'] + to_charge.iloc[0]['distance']\n",
    "\n",
    "print(\"Charging by both distance and power level takes\", both_charge_time, \"hours.\")"
   ]
  },
  {
   "cell_type": "code",
   "execution_count": 19,
   "metadata": {},
   "outputs": [
    {
     "data": {
      "text/plain": [
       "(77000, 77700)"
      ]
     },
     "execution_count": 19,
     "metadata": {},
     "output_type": "execute_result"
    },
    {
     "data": {
      "image/png": "[encoded data removed]",
      "text/plain": [
       "<Figure size 432x288 with 1 Axes>"
      ]
     },
     "metadata": {
      "needs_background": "light"
     },
     "output_type": "display_data"
    }
   ],
   "source": [
    "# Charging strategy summary\n",
    "times = [loc_charge_time, power_charge_time, both_charge_time]\n",
    "sns.barplot(x = [\"Location\", \"Power Level\", \"Both\"], y = times).set_ylim(77000, 77700)"
   ]
  },
  {
   "cell_type": "code",
   "execution_count": null,
   "metadata": {},
   "outputs": [],
   "source": []
  }
 ],
 "metadata": {
  "kernelspec": {
   "display_name": "Python 3",
   "language": "python",
   "name": "python3"
  },
  "language_info": {
   "codemirror_mode": {
    "name": "ipython",
    "version": 3
   },
   "file_extension": ".py",
   "mimetype": "text/x-python",
   "name": "python",
   "nbconvert_exporter": "python",
   "pygments_lexer": "ipython3",
   "version": "3.7.3"
  }
 },
 "nbformat": 4,
 "nbformat_minor": 2
}
